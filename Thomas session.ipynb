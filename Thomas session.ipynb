{
 "cells": [
  {
   "cell_type": "code",
   "execution_count": 1,
   "metadata": {},
   "outputs": [
    {
     "name": "stderr",
     "output_type": "stream",
     "text": [
      "e:\\Annaconda\\envs\\vit-interpretability-thesis\\lib\\site-packages\\tqdm\\auto.py:22: TqdmWarning: IProgress not found. Please update jupyter and ipywidgets. See https://ipywidgets.readthedocs.io/en/stable/user_install.html\n",
      "  from .autonotebook import tqdm as notebook_tqdm\n"
     ]
    },
    {
     "ename": "IndexError",
     "evalue": "list index out of range",
     "output_type": "error",
     "traceback": [
      "\u001b[1;31m---------------------------------------------------------------------------\u001b[0m",
      "\u001b[1;31mIndexError\u001b[0m                                Traceback (most recent call last)",
      "Cell \u001b[1;32mIn[1], line 44\u001b[0m\n\u001b[0;32m     42\u001b[0m model_name \u001b[38;5;241m=\u001b[39m \u001b[38;5;124m'\u001b[39m\u001b[38;5;124mvit_base_patch16_224\u001b[39m\u001b[38;5;124m'\u001b[39m\n\u001b[0;32m     43\u001b[0m layer_path \u001b[38;5;241m=\u001b[39m \u001b[38;5;124m'\u001b[39m\u001b[38;5;124mblocks/10/mlp/fc1\u001b[39m\u001b[38;5;124m'\u001b[39m  \u001b[38;5;66;03m# Specify the path to the layer you want to extract up to\u001b[39;00m\n\u001b[1;32m---> 44\u001b[0m submodule \u001b[38;5;241m=\u001b[39m \u001b[43mextract_submodule\u001b[49m\u001b[43m(\u001b[49m\u001b[43mmodel_name\u001b[49m\u001b[43m,\u001b[49m\u001b[43m \u001b[49m\u001b[43mlayer_path\u001b[49m\u001b[43m)\u001b[49m\n",
      "Cell \u001b[1;32mIn[1], line 28\u001b[0m, in \u001b[0;36mextract_submodule\u001b[1;34m(model_name, layer_path)\u001b[0m\n\u001b[0;32m     25\u001b[0m \u001b[38;5;28;01mfor\u001b[39;00m part \u001b[38;5;129;01min\u001b[39;00m layer_parts:\n\u001b[0;32m     26\u001b[0m     \u001b[38;5;66;03m# If part is a block index, add the blocks sequentially\u001b[39;00m\n\u001b[0;32m     27\u001b[0m     \u001b[38;5;28;01mif\u001b[39;00m part\u001b[38;5;241m.\u001b[39mstartswith(\u001b[38;5;124m'\u001b[39m\u001b[38;5;124mblocks\u001b[39m\u001b[38;5;124m'\u001b[39m):\n\u001b[1;32m---> 28\u001b[0m         blocks_idx \u001b[38;5;241m=\u001b[39m \u001b[38;5;28mint\u001b[39m(\u001b[43mpart\u001b[49m\u001b[38;5;241;43m.\u001b[39;49m\u001b[43msplit\u001b[49m\u001b[43m(\u001b[49m\u001b[38;5;124;43m'\u001b[39;49m\u001b[38;5;124;43m.\u001b[39;49m\u001b[38;5;124;43m'\u001b[39;49m\u001b[43m)\u001b[49m\u001b[43m[\u001b[49m\u001b[38;5;241;43m1\u001b[39;49m\u001b[43m]\u001b[49m)\n\u001b[0;32m     29\u001b[0m         blocks \u001b[38;5;241m=\u001b[39m nn\u001b[38;5;241m.\u001b[39mSequential()\n\u001b[0;32m     30\u001b[0m         \u001b[38;5;28;01mfor\u001b[39;00m i, block \u001b[38;5;129;01min\u001b[39;00m \u001b[38;5;28menumerate\u001b[39m(current_module\u001b[38;5;241m.\u001b[39mblocks\u001b[38;5;241m.\u001b[39mchildren()):\n",
      "\u001b[1;31mIndexError\u001b[0m: list index out of range"
     ]
    },
    {
     "ename": "",
     "evalue": "",
     "output_type": "error",
     "traceback": [
      "\u001b[1;31mThe Kernel crashed while executing code in the current cell or a previous cell. \n",
      "\u001b[1;31mPlease review the code in the cell(s) to identify a possible cause of the failure. \n",
      "\u001b[1;31mClick <a href='https://aka.ms/vscodeJupyterKernelCrash'>here</a> for more info. \n",
      "\u001b[1;31mView Jupyter <a href='command:jupyter.viewOutput'>log</a> for further details."
     ]
    }
   ],
   "source": [
    "import timm\n",
    "import torch.nn as nn\n",
    "\n",
    "def extract_submodule(model_name: str, layer_path: str) -> nn.Module:\n",
    "    \"\"\"\n",
    "    Extract a submodule from a timm Vision Transformer model up to a specified layer.\n",
    "\n",
    "    Args:\n",
    "        model_name (str): Name of the ViT model in the timm library.\n",
    "        layer_path (str): The layer path up to which the submodule should be extracted, separated by slashes.\n",
    "\n",
    "    Returns:\n",
    "        nn.Module: The extracted submodule.\n",
    "    \"\"\"\n",
    "    # Load the model\n",
    "    model = timm.create_model(model_name, pretrained=True)\n",
    "   \n",
    "    # Split the layer path into parts\n",
    "    layer_parts = layer_path.split('/')\n",
    "   \n",
    "    # Create a new Sequential container to hold the submodule\n",
    "    submodule = nn.Sequential()\n",
    "   \n",
    "    current_module = model\n",
    "    for part in layer_parts:\n",
    "        # If part is a block index, add the blocks sequentially\n",
    "        if part.startswith('blocks'):\n",
    "            blocks_idx = int(part.split('.')[1])\n",
    "            blocks = nn.Sequential()\n",
    "            for i, block in enumerate(current_module.blocks.children()):\n",
    "                blocks.add_module(f'block_{i}', block)\n",
    "                if i == blocks_idx:\n",
    "                    submodule.add_module('blocks', blocks)\n",
    "                    return submodule\n",
    "        else:\n",
    "            current_module = getattr(current_module, part)\n",
    "            submodule.add_module(part, current_module)\n",
    "   \n",
    "    return submodule\n",
    "\n",
    "# Example usage\n",
    "model_name = 'vit_base_patch16_224'\n",
    "layer_path = 'blocks/10/mlp/fc1'  # Specify the path to the layer you want to extract up to\n",
    "submodule = extract_submodule(model_name, layer_path)"
   ]
  },
  {
   "cell_type": "code",
   "execution_count": null,
   "metadata": {},
   "outputs": [],
   "source": []
  }
 ],
 "metadata": {
  "kernelspec": {
   "display_name": "vit-interpretability-thesis",
   "language": "python",
   "name": "python3"
  },
  "language_info": {
   "codemirror_mode": {
    "name": "ipython",
    "version": 3
   },
   "file_extension": ".py",
   "mimetype": "text/x-python",
   "name": "python",
   "nbconvert_exporter": "python",
   "pygments_lexer": "ipython3",
   "version": "3.9.19"
  }
 },
 "nbformat": 4,
 "nbformat_minor": 2
}
